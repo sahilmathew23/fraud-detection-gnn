{
 "cells": [
  {
   "cell_type": "code",
   "execution_count": 16,
   "metadata": {
    "colab": {
     "base_uri": "https://localhost:8080/"
    },
    "executionInfo": {
     "elapsed": 3079,
     "status": "ok",
     "timestamp": 1639728513338,
     "user": {
      "displayName": "Sahil Mathew",
      "photoUrl": "https://lh3.googleusercontent.com/a/default-user=s64",
      "userId": "06582432602947148442"
     },
     "user_tz": -330
    },
    "id": "oboHHcasQ_RT",
    "outputId": "19c27e53-edea-4ef2-975d-ac04bcd6a76d"
   },
   "outputs": [
    {
     "name": "stdout",
     "output_type": "stream",
     "text": [
      "Drive already mounted at /content/drive; to attempt to forcibly remount, call drive.mount(\"/content/drive\", force_remount=True).\n"
     ]
    }
   ],
   "source": [
    "from google.colab import drive\n",
    "drive.mount('/content/drive')"
   ]
  },
  {
   "cell_type": "code",
   "execution_count": 17,
   "metadata": {
    "colab": {
     "base_uri": "https://localhost:8080/"
    },
    "executionInfo": {
     "elapsed": 441,
     "status": "ok",
     "timestamp": 1639728535835,
     "user": {
      "displayName": "Sahil Mathew",
      "photoUrl": "https://lh3.googleusercontent.com/a/default-user=s64",
      "userId": "06582432602947148442"
     },
     "user_tz": -330
    },
    "id": "5E4jTnVfRYIL",
    "outputId": "3783f004-4aa2-4a48-91fa-4e098155f5f6"
   },
   "outputs": [
    {
     "name": "stdout",
     "output_type": "stream",
     "text": [
      "/content/drive/MyDrive/graphfrauddetectionworking/deployMLModel\n"
     ]
    }
   ],
   "source": [
    "import os\n",
    "cur_path = \"/content/drive/MyDrive/graphfrauddetectionworking/deployMLModel\"\n",
    "os.chdir(cur_path)\n",
    "!pwd"
   ]
  },
  {
   "cell_type": "code",
   "execution_count": 18,
   "metadata": {
    "colab": {
     "base_uri": "https://localhost:8080/"
    },
    "executionInfo": {
     "elapsed": 3350,
     "status": "ok",
     "timestamp": 1639728543117,
     "user": {
      "displayName": "Sahil Mathew",
      "photoUrl": "https://lh3.googleusercontent.com/a/default-user=s64",
      "userId": "06582432602947148442"
     },
     "user_tz": -330
    },
    "id": "MbC6b4d3R3bE",
    "outputId": "972f423d-6d59-49db-d3cc-38827c476c64"
   },
   "outputs": [
    {
     "name": "stdout",
     "output_type": "stream",
     "text": [
      "Requirement already satisfied: flask-ngrok in /usr/local/lib/python3.7/dist-packages (0.0.25)\n",
      "Requirement already satisfied: requests in /usr/local/lib/python3.7/dist-packages (from flask-ngrok) (2.23.0)\n",
      "Requirement already satisfied: Flask>=0.8 in /usr/local/lib/python3.7/dist-packages (from flask-ngrok) (1.1.4)\n",
      "Requirement already satisfied: click<8.0,>=5.1 in /usr/local/lib/python3.7/dist-packages (from Flask>=0.8->flask-ngrok) (7.1.2)\n",
      "Requirement already satisfied: Jinja2<3.0,>=2.10.1 in /usr/local/lib/python3.7/dist-packages (from Flask>=0.8->flask-ngrok) (2.11.3)\n",
      "Requirement already satisfied: Werkzeug<2.0,>=0.15 in /usr/local/lib/python3.7/dist-packages (from Flask>=0.8->flask-ngrok) (1.0.1)\n",
      "Requirement already satisfied: itsdangerous<2.0,>=0.24 in /usr/local/lib/python3.7/dist-packages (from Flask>=0.8->flask-ngrok) (1.1.0)\n",
      "Requirement already satisfied: MarkupSafe>=0.23 in /usr/local/lib/python3.7/dist-packages (from Jinja2<3.0,>=2.10.1->Flask>=0.8->flask-ngrok) (2.0.1)\n",
      "Requirement already satisfied: certifi>=2017.4.17 in /usr/local/lib/python3.7/dist-packages (from requests->flask-ngrok) (2021.10.8)\n",
      "Requirement already satisfied: idna<3,>=2.5 in /usr/local/lib/python3.7/dist-packages (from requests->flask-ngrok) (2.10)\n",
      "Requirement already satisfied: urllib3!=1.25.0,!=1.25.1,<1.26,>=1.21.1 in /usr/local/lib/python3.7/dist-packages (from requests->flask-ngrok) (1.24.3)\n",
      "Requirement already satisfied: chardet<4,>=3.0.2 in /usr/local/lib/python3.7/dist-packages (from requests->flask-ngrok) (3.0.4)\n"
     ]
    }
   ],
   "source": [
    "!pip install flask-ngrok"
   ]
  },
  {
   "cell_type": "code",
   "execution_count": 19,
   "metadata": {
    "colab": {
     "base_uri": "https://localhost:8080/"
    },
    "executionInfo": {
     "elapsed": 2531,
     "status": "ok",
     "timestamp": 1639728545635,
     "user": {
      "displayName": "Sahil Mathew",
      "photoUrl": "https://lh3.googleusercontent.com/a/default-user=s64",
      "userId": "06582432602947148442"
     },
     "user_tz": -330
    },
    "id": "z766QnMcZyTB",
    "outputId": "a1a142aa-1297-4cb6-fc8c-01927a7cdf64"
   },
   "outputs": [
    {
     "name": "stdout",
     "output_type": "stream",
     "text": [
      "/drive/ngrok-ssh\n",
      "--2021-12-17 08:09:02--  https://bin.equinox.io/c/4VmDzA7iaHb/ngrok-stable-linux-amd64.zip\n",
      "Resolving bin.equinox.io (bin.equinox.io)... 54.161.241.46, 52.202.168.65, 54.237.133.81, ...\n",
      "Connecting to bin.equinox.io (bin.equinox.io)|54.161.241.46|:443... connected.\n",
      "HTTP request sent, awaiting response... 200 OK\n",
      "Length: 13832437 (13M) [application/octet-stream]\n",
      "Saving to: ‘ngrok-stable-linux-amd64.zip’\n",
      "\n",
      "ngrok-stable-linux- 100%[===================>]  13.19M  8.33MB/s    in 1.6s    \n",
      "\n",
      "2021-12-17 08:09:04 (8.33 MB/s) - ‘ngrok-stable-linux-amd64.zip’ saved [13832437/13832437]\n",
      "\n",
      "Archive:  ngrok-stable-linux-amd64.zip\n"
     ]
    }
   ],
   "source": [
    "!mkdir -p /drive/ngrok-ssh\n",
    "%cd /drive/ngrok-ssh\n",
    "!wget https://bin.equinox.io/c/4VmDzA7iaHb/ngrok-stable-linux-amd64.zip -O ngrok-stable-linux-amd64.zip\n",
    "!unzip -u ngrok-stable-linux-amd64.zip\n",
    "!cp /drive/ngrok-ssh/ngrok /ngrok\n",
    "!chmod +x /ngrok"
   ]
  },
  {
   "cell_type": "code",
   "execution_count": 20,
   "metadata": {
    "colab": {
     "base_uri": "https://localhost:8080/"
    },
    "executionInfo": {
     "elapsed": 15,
     "status": "ok",
     "timestamp": 1639728546132,
     "user": {
      "displayName": "Sahil Mathew",
      "photoUrl": "https://lh3.googleusercontent.com/a/default-user=s64",
      "userId": "06582432602947148442"
     },
     "user_tz": -330
    },
    "id": "LccQ9_9_ZvMY",
    "outputId": "e43acba7-69ed-4e56-fc43-823934966d55"
   },
   "outputs": [
    {
     "name": "stdout",
     "output_type": "stream",
     "text": [
      "Authtoken saved to configuration file: /root/.ngrok2/ngrok.yml\n"
     ]
    }
   ],
   "source": [
    "!/ngrok authtoken 22M9kd1UNGxTJ2DhPiTI0qT40ny_2fNGS31zNXHvi3KtESfua"
   ]
  },
  {
   "cell_type": "code",
   "execution_count": 21,
   "metadata": {
    "colab": {
     "base_uri": "https://localhost:8080/"
    },
    "executionInfo": {
     "elapsed": 427,
     "status": "ok",
     "timestamp": 1639728558001,
     "user": {
      "displayName": "Sahil Mathew",
      "photoUrl": "https://lh3.googleusercontent.com/a/default-user=s64",
      "userId": "06582432602947148442"
     },
     "user_tz": -330
    },
    "id": "kur9Vmg_Z5Io",
    "outputId": "fe97fda0-db78-4374-dcd5-29a5ae57b83b"
   },
   "outputs": [
    {
     "name": "stdout",
     "output_type": "stream",
     "text": [
      "/content/drive/MyDrive/graphfrauddetectionworking/deployMLModel\n"
     ]
    }
   ],
   "source": [
    "import os\n",
    "cur_path = \"/content/drive/MyDrive/graphfrauddetectionworking/deployMLModel\"\n",
    "os.chdir(cur_path)\n",
    "!pwd"
   ]
  },
  {
   "cell_type": "code",
   "execution_count": 22,
   "metadata": {
    "colab": {
     "base_uri": "https://localhost:8080/"
    },
    "executionInfo": {
     "elapsed": 14931,
     "status": "ok",
     "timestamp": 1639728593181,
     "user": {
      "displayName": "Sahil Mathew",
      "photoUrl": "https://lh3.googleusercontent.com/a/default-user=s64",
      "userId": "06582432602947148442"
     },
     "user_tz": -330
    },
    "id": "faYZOap8VVmO",
    "outputId": "ab2c188b-c858-4950-b955-3e0a543acd85"
   },
   "outputs": [
    {
     "name": "stdout",
     "output_type": "stream",
     "text": [
      " * Serving Flask app \"app\" (lazy loading)\n",
      " * Environment: production\n",
      "\u001b[31m   WARNING: This is a development server. Do not use it in a production deployment.\u001b[0m\n",
      "\u001b[2m   Use a production WSGI server instead.\u001b[0m\n",
      " * Debug mode: off\n",
      " * Running on http://127.0.0.1:5000/ (Press CTRL+C to quit)\n",
      " * Running on http://7639-34-73-88-251.ngrok.io\n",
      " * Traffic stats available on http://127.0.0.1:4040\n",
      "127.0.0.1 - - [17/Dec/2021 08:09:42] \"\u001b[37mGET / HTTP/1.1\u001b[0m\" 200 -\n",
      "127.0.0.1 - - [17/Dec/2021 08:09:42] \"\u001b[33mGET /favicon.ico HTTP/1.1\u001b[0m\" 404 -\n",
      "127.0.0.1 - - [17/Dec/2021 08:09:45] \"\u001b[37mPOST /predict HTTP/1.1\u001b[0m\" 200 -\n",
      "Traceback (most recent call last):\n",
      "  File \"app.py\", line 40, in <module>\n",
      "    app.run()\n",
      "  File \"/usr/local/lib/python3.7/dist-packages/flask_ngrok.py\", line 88, in new_run\n",
      "    old_run()\n",
      "  File \"/usr/local/lib/python3.7/dist-packages/flask/app.py\", line 990, in run\n",
      "    run_simple(host, port, self, **options)\n",
      "  File \"/usr/local/lib/python3.7/dist-packages/werkzeug/serving.py\", line 1052, in run_simple\n",
      "    inner()\n",
      "  File \"/usr/local/lib/python3.7/dist-packages/werkzeug/serving.py\", line 1009, in inner\n",
      "    srv.serve_forever()\n",
      "  File \"/usr/local/lib/python3.7/dist-packages/werkzeug/serving.py\", line 781, in serve_forever\n",
      "    self.server_close()\n",
      "  File \"/usr/lib/python3.7/socketserver.py\", line 668, in server_close\n",
      "    super().server_close()\n",
      "  File \"/usr/lib/python3.7/socketserver.py\", line 483, in server_close\n",
      "    self.socket.close()\n",
      "  File \"/usr/lib/python3.7/socket.py\", line 420, in close\n",
      "    self._real_close()\n",
      "  File \"/usr/lib/python3.7/socket.py\", line 414, in _real_close\n",
      "    _ss.close(self)\n",
      "KeyboardInterrupt\n"
     ]
    }
   ],
   "source": [
    "!python app.py"
   ]
  }
 ],
 "metadata": {
  "colab": {
   "collapsed_sections": [],
   "name": "Deployment.ipynb",
   "provenance": []
  },
  "kernelspec": {
   "display_name": "Python 3 (ipykernel)",
   "language": "python",
   "name": "python3"
  },
  "language_info": {
   "codemirror_mode": {
    "name": "ipython",
    "version": 3
   },
   "file_extension": ".py",
   "mimetype": "text/x-python",
   "name": "python",
   "nbconvert_exporter": "python",
   "pygments_lexer": "ipython3",
   "version": "3.9.7"
  }
 },
 "nbformat": 4,
 "nbformat_minor": 1
}
