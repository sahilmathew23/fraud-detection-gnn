{
 "cells": [
  {
   "cell_type": "code",
   "execution_count": null,
   "metadata": {
    "colab": {
     "base_uri": "https://localhost:8080/"
    },
    "executionInfo": {
     "elapsed": 21212,
     "status": "ok",
     "timestamp": 1645163085261,
     "user": {
      "displayName": "Sahil Mathew",
      "photoUrl": "https://lh3.googleusercontent.com/a/default-user=s64",
      "userId": "06582432602947148442"
     },
     "user_tz": -330
    },
    "id": "oboHHcasQ_RT",
    "outputId": "b7fa17e1-1a12-4444-f942-0708894551e4"
   },
   "outputs": [
    {
     "name": "stdout",
     "output_type": "stream",
     "text": [
      "Mounted at /content/drive\n"
     ]
    }
   ],
   "source": [
    "   from google.colab import drive\n",
    "drive.mount('/content/drive')"
   ]
  },
  {
   "cell_type": "code",
   "execution_count": null,
   "metadata": {
    "colab": {
     "base_uri": "https://localhost:8080/"
    },
    "executionInfo": {
     "elapsed": 717,
     "status": "ok",
     "timestamp": 1645163085965,
     "user": {
      "displayName": "Sahil Mathew",
      "photoUrl": "https://lh3.googleusercontent.com/a/default-user=s64",
      "userId": "06582432602947148442"
     },
     "user_tz": -330
    },
    "id": "5E4jTnVfRYIL",
    "outputId": "46e8fe03-a738-4663-9a36-1ba3b6c4ac78"
   },
   "outputs": [
    {
     "name": "stdout",
     "output_type": "stream",
     "text": [
      "/content/drive/MyDrive/graphfrauddetectionworking/deployMLModel_v3/deployMLModel_v3\n"
     ]
    }
   ],
   "source": [
    "import os\n",
    "cur_path = \"/content/drive/MyDrive/graphfrauddetectionworking/deployMLModel_v3/deployMLModel_v3\"\n",
    "os.chdir(cur_path)\n",
    "!pwd"
   ]
  },
  {
   "cell_type": "code",
   "execution_count": null,
   "metadata": {
    "colab": {
     "base_uri": "https://localhost:8080/"
    },
    "executionInfo": {
     "elapsed": 4296,
     "status": "ok",
     "timestamp": 1645163090258,
     "user": {
      "displayName": "Sahil Mathew",
      "photoUrl": "https://lh3.googleusercontent.com/a/default-user=s64",
      "userId": "06582432602947148442"
     },
     "user_tz": -330
    },
    "id": "MbC6b4d3R3bE",
    "outputId": "a9809c28-3847-46fd-fd59-6df409befd63"
   },
   "outputs": [
    {
     "name": "stdout",
     "output_type": "stream",
     "text": [
      "Collecting flask-ngrok\n",
      "  Downloading flask_ngrok-0.0.25-py3-none-any.whl (3.1 kB)\n",
      "Requirement already satisfied: requests in /usr/local/lib/python3.7/dist-packages (from flask-ngrok) (2.23.0)\n",
      "Requirement already satisfied: Flask>=0.8 in /usr/local/lib/python3.7/dist-packages (from flask-ngrok) (1.1.4)\n",
      "Requirement already satisfied: Jinja2<3.0,>=2.10.1 in /usr/local/lib/python3.7/dist-packages (from Flask>=0.8->flask-ngrok) (2.11.3)\n",
      "Requirement already satisfied: click<8.0,>=5.1 in /usr/local/lib/python3.7/dist-packages (from Flask>=0.8->flask-ngrok) (7.1.2)\n",
      "Requirement already satisfied: Werkzeug<2.0,>=0.15 in /usr/local/lib/python3.7/dist-packages (from Flask>=0.8->flask-ngrok) (1.0.1)\n",
      "Requirement already satisfied: itsdangerous<2.0,>=0.24 in /usr/local/lib/python3.7/dist-packages (from Flask>=0.8->flask-ngrok) (1.1.0)\n",
      "Requirement already satisfied: MarkupSafe>=0.23 in /usr/local/lib/python3.7/dist-packages (from Jinja2<3.0,>=2.10.1->Flask>=0.8->flask-ngrok) (2.0.1)\n",
      "Requirement already satisfied: idna<3,>=2.5 in /usr/local/lib/python3.7/dist-packages (from requests->flask-ngrok) (2.10)\n",
      "Requirement already satisfied: certifi>=2017.4.17 in /usr/local/lib/python3.7/dist-packages (from requests->flask-ngrok) (2021.10.8)\n",
      "Requirement already satisfied: urllib3!=1.25.0,!=1.25.1,<1.26,>=1.21.1 in /usr/local/lib/python3.7/dist-packages (from requests->flask-ngrok) (1.24.3)\n",
      "Requirement already satisfied: chardet<4,>=3.0.2 in /usr/local/lib/python3.7/dist-packages (from requests->flask-ngrok) (3.0.4)\n",
      "Installing collected packages: flask-ngrok\n",
      "Successfully installed flask-ngrok-0.0.25\n"
     ]
    }
   ],
   "source": [
    "!pip install flask-ngrok"
   ]
  },
  {
   "cell_type": "code",
   "execution_count": null,
   "metadata": {
    "colab": {
     "base_uri": "https://localhost:8080/"
    },
    "executionInfo": {
     "elapsed": 1419,
     "status": "ok",
     "timestamp": 1645163091666,
     "user": {
      "displayName": "Sahil Mathew",
      "photoUrl": "https://lh3.googleusercontent.com/a/default-user=s64",
      "userId": "06582432602947148442"
     },
     "user_tz": -330
    },
    "id": "z766QnMcZyTB",
    "outputId": "3b829614-3755-4d94-9ff8-52785f31a548"
   },
   "outputs": [
    {
     "name": "stdout",
     "output_type": "stream",
     "text": [
      "/drive/ngrok-ssh\n",
      "--2022-02-18 05:44:35--  https://bin.equinox.io/c/4VmDzA7iaHb/ngrok-stable-linux-amd64.zip\n",
      "Resolving bin.equinox.io (bin.equinox.io)... 18.205.222.128, 54.161.241.46, 52.202.168.65, ...\n",
      "Connecting to bin.equinox.io (bin.equinox.io)|18.205.222.128|:443... connected.\n",
      "HTTP request sent, awaiting response... 200 OK\n",
      "Length: 13832437 (13M) [application/octet-stream]\n",
      "Saving to: ‘ngrok-stable-linux-amd64.zip’\n",
      "\n",
      "ngrok-stable-linux- 100%[===================>]  13.19M  54.2MB/s    in 0.2s    \n",
      "\n",
      "2022-02-18 05:44:36 (54.2 MB/s) - ‘ngrok-stable-linux-amd64.zip’ saved [13832437/13832437]\n",
      "\n",
      "Archive:  ngrok-stable-linux-amd64.zip\n",
      "  inflating: ngrok                   \n"
     ]
    }
   ],
   "source": [
    "!mkdir -p /drive/ngrok-ssh\n",
    "%cd /drive/ngrok-ssh\n",
    "!wget https://bin.equinox.io/c/4VmDzA7iaHb/ngrok-stable-linux-amd64.zip -O ngrok-stable-linux-amd64.zip\n",
    "!unzip -u ngrok-stable-linux-amd64.zip\n",
    "!cp /drive/ngrok-ssh/ngrok /ngrok\n",
    "!chmod +x /ngrok"
   ]
  },
  {
   "cell_type": "code",
   "execution_count": null,
   "metadata": {
    "colab": {
     "base_uri": "https://localhost:8080/"
    },
    "executionInfo": {
     "elapsed": 17,
     "status": "ok",
     "timestamp": 1645163091668,
     "user": {
      "displayName": "Sahil Mathew",
      "photoUrl": "https://lh3.googleusercontent.com/a/default-user=s64",
      "userId": "06582432602947148442"
     },
     "user_tz": -330
    },
    "id": "LccQ9_9_ZvMY",
    "outputId": "36ebbc3f-bc88-4a9c-ec9f-78d73df5f393"
   },
   "outputs": [
    {
     "name": "stdout",
     "output_type": "stream",
     "text": [
      "Authtoken saved to configuration file: /root/.ngrok2/ngrok.yml\n"
     ]
    }
   ],
   "source": [
    "!/ngrok authtoken 22M9kd1UNGxuseyouowntoken"
   ]
  },
  {
   "cell_type": "code",
   "execution_count": null,
   "metadata": {
    "colab": {
     "base_uri": "https://localhost:8080/"
    },
    "executionInfo": {
     "elapsed": 13,
     "status": "ok",
     "timestamp": 1645163091669,
     "user": {
      "displayName": "Sahil Mathew",
      "photoUrl": "https://lh3.googleusercontent.com/a/default-user=s64",
      "userId": "06582432602947148442"
     },
     "user_tz": -330
    },
    "id": "kur9Vmg_Z5Io",
    "outputId": "bf82f9d3-3ef1-4e85-e53d-e09d34899e56"
   },
   "outputs": [
    {
     "name": "stdout",
     "output_type": "stream",
     "text": [
      "/content/drive/MyDrive/graphfrauddetectionworking/deployMLModel_v3/deployMLModel_v3\n"
     ]
    }
   ],
   "source": [
    "import os\n",
    "cur_path = \"/content/drive/MyDrive/graphfrauddetectionworking/deployMLModel_v3/deployMLModel_v3\"\n",
    "os.chdir(cur_path)\n",
    "!pwd"
   ]
  },
  {
   "cell_type": "code",
   "execution_count": null,
   "metadata": {
    "colab": {
     "background_save": true,
     "base_uri": "https://localhost:8080/"
    },
    "id": "faYZOap8VVmO",
    "outputId": "1df57cd8-1746-46f1-d39d-583c71a7f742"
   },
   "outputs": [
    {
     "name": "stdout",
     "output_type": "stream",
     "text": [
      " * Serving Flask app \"app\" (lazy loading)\n",
      " * Environment: production\n",
      "\u001b[31m   WARNING: This is a development server. Do not use it in a production deployment.\u001b[0m\n",
      "\u001b[2m   Use a production WSGI server instead.\u001b[0m\n",
      " * Debug mode: off\n",
      " * Running on http://127.0.0.1:5000/ (Press CTRL+C to quit)\n",
      " * Running on http://377f-34-74-138-130.ngrok.io\n",
      " * Traffic stats available on http://127.0.0.1:4040\n",
      "127.0.0.1 - - [18/Feb/2022 05:46:56] \"\u001b[37mGET / HTTP/1.1\u001b[0m\" 200 -\n",
      "127.0.0.1 - - [18/Feb/2022 05:46:58] \"\u001b[37mGET / HTTP/1.1\u001b[0m\" 200 -\n",
      "127.0.0.1 - - [18/Feb/2022 05:47:00] \"\u001b[37mGET /static/b1.jpg HTTP/1.1\u001b[0m\" 200 -\n",
      "127.0.0.1 - - [18/Feb/2022 05:47:00] \"\u001b[37mGET /static/user.jpg HTTP/1.1\u001b[0m\" 200 -\n",
      "127.0.0.1 - - [18/Feb/2022 05:47:02] \"\u001b[37mGET / HTTP/1.1\u001b[0m\" 200 -\n",
      "127.0.0.1 - - [18/Feb/2022 05:47:03] \"\u001b[37mGET /static/user.jpg HTTP/1.1\u001b[0m\" 200 -\n",
      "127.0.0.1 - - [18/Feb/2022 05:47:03] \"\u001b[37mGET /static/b1.jpg HTTP/1.1\u001b[0m\" 200 -\n",
      "127.0.0.1 - - [18/Feb/2022 05:47:04] \"\u001b[33mGET /favicon.ico HTTP/1.1\u001b[0m\" 404 -\n",
      "127.0.0.1 - - [18/Feb/2022 05:58:02] \"\u001b[37mPOST /data HTTP/1.1\u001b[0m\" 200 -\n",
      "127.0.0.1 - - [18/Feb/2022 05:58:04] \"\u001b[31m\u001b[1mGET /data HTTP/1.1\u001b[0m\" 405 -\n",
      "127.0.0.1 - - [18/Feb/2022 05:58:17] \"\u001b[37mPOST /predict HTTP/1.1\u001b[0m\" 200 -\n",
      "127.0.0.1 - - [18/Feb/2022 05:58:19] \"\u001b[31m\u001b[1mGET /predict HTTP/1.1\u001b[0m\" 405 -\n",
      "127.0.0.1 - - [18/Feb/2022 05:58:25] \"\u001b[37mGET / HTTP/1.1\u001b[0m\" 200 -\n",
      "127.0.0.1 - - [18/Feb/2022 05:58:30] \"\u001b[37mPOST /data HTTP/1.1\u001b[0m\" 200 -\n",
      "127.0.0.1 - - [18/Feb/2022 05:58:35] \"\u001b[37mPOST /predict HTTP/1.1\u001b[0m\" 200 -\n"
     ]
    }
   ],
   "source": [
    "!python app.py"
   ]
  }
 ],
 "metadata": {
  "colab": {
   "collapsed_sections": [],
   "name": "6. Deployment.ipynb",
   "provenance": []
  },
  "kernelspec": {
   "display_name": "Python 3 (ipykernel)",
   "language": "python",
   "name": "python3"
  },
  "language_info": {
   "codemirror_mode": {
    "name": "ipython",
    "version": 3
   },
   "file_extension": ".py",
   "mimetype": "text/x-python",
   "name": "python",
   "nbconvert_exporter": "python",
   "pygments_lexer": "ipython3",
   "version": "3.9.7"
  }
 },
 "nbformat": 4,
 "nbformat_minor": 1
}
